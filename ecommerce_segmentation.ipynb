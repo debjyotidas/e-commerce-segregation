{
 "cells": [
  {
   "cell_type": "code",
   "execution_count": 85,
   "metadata": {},
   "outputs": [],
   "source": [
    "import pandas as pd\n",
    "import numpy as np\n",
    "from sklearn.tree import DecisionTreeClassifier # Import Decision Tree Classifier\n",
    "from sklearn.ensemble import RandomForestClassifier\n",
    "from sklearn import svm\n",
    "\n",
    "from sklearn.model_selection import train_test_split # Import train_test_split function\n",
    "from sklearn import metrics #Import scikit-learn metrics module for accuracy calculation\n",
    "from sklearn.model_selection import cross_val_score\n",
    "from pandas.plotting._matplotlib import converter\n",
    "converter.register()\n",
    "import seaborn as sb\n",
    "from matplotlib import pyplot as plt\n",
    "import seaborn as sb\n",
    "from matplotlib import pyplot as plt\n",
    "import seaborn as sns\n",
    "from sklearn.preprocessing import StandardScaler\n",
    "from sklearn.cluster import KMeans"
   ]
  },
  {
   "cell_type": "code",
   "execution_count": 86,
   "metadata": {},
   "outputs": [],
   "source": [
    "df=pd.DataFrame(pd.read_csv(\"C:/Users/Debjyoti/Desktop/dataset2/Ecommerce_Customers.csv\"))"
   ]
  },
  {
   "cell_type": "code",
   "execution_count": 87,
   "metadata": {},
   "outputs": [
    {
     "name": "stdout",
     "output_type": "stream",
     "text": [
      "Index(['Address', 'Avatar', 'Avg. Session Length', 'Time on App',\n",
      "       'Time on Website', 'Length of Membership', 'Yearly Amount Spent'],\n",
      "      dtype='object')\n"
     ]
    }
   ],
   "source": [
    "print(df.columns)"
   ]
  },
  {
   "cell_type": "code",
   "execution_count": 88,
   "metadata": {},
   "outputs": [
    {
     "data": {
      "text/html": [
       "<div>\n",
       "<style scoped>\n",
       "    .dataframe tbody tr th:only-of-type {\n",
       "        vertical-align: middle;\n",
       "    }\n",
       "\n",
       "    .dataframe tbody tr th {\n",
       "        vertical-align: top;\n",
       "    }\n",
       "\n",
       "    .dataframe thead th {\n",
       "        text-align: right;\n",
       "    }\n",
       "</style>\n",
       "<table border=\"1\" class=\"dataframe\">\n",
       "  <thead>\n",
       "    <tr style=\"text-align: right;\">\n",
       "      <th></th>\n",
       "      <th>Avg. Session Length</th>\n",
       "      <th>Time on App</th>\n",
       "      <th>Time on Website</th>\n",
       "      <th>Length of Membership</th>\n",
       "      <th>Yearly Amount Spent</th>\n",
       "    </tr>\n",
       "  </thead>\n",
       "  <tbody>\n",
       "    <tr>\n",
       "      <th>0</th>\n",
       "      <td>34.497268</td>\n",
       "      <td>12.655651</td>\n",
       "      <td>39.577668</td>\n",
       "      <td>4.082621</td>\n",
       "      <td>587.951054</td>\n",
       "    </tr>\n",
       "    <tr>\n",
       "      <th>1</th>\n",
       "      <td>31.926272</td>\n",
       "      <td>11.109461</td>\n",
       "      <td>37.268959</td>\n",
       "      <td>2.664034</td>\n",
       "      <td>392.204933</td>\n",
       "    </tr>\n",
       "    <tr>\n",
       "      <th>2</th>\n",
       "      <td>33.000915</td>\n",
       "      <td>11.330278</td>\n",
       "      <td>37.110597</td>\n",
       "      <td>4.104543</td>\n",
       "      <td>487.547505</td>\n",
       "    </tr>\n",
       "    <tr>\n",
       "      <th>3</th>\n",
       "      <td>34.305557</td>\n",
       "      <td>13.717514</td>\n",
       "      <td>36.721283</td>\n",
       "      <td>3.120179</td>\n",
       "      <td>581.852344</td>\n",
       "    </tr>\n",
       "    <tr>\n",
       "      <th>4</th>\n",
       "      <td>33.330673</td>\n",
       "      <td>12.795189</td>\n",
       "      <td>37.536653</td>\n",
       "      <td>4.446308</td>\n",
       "      <td>599.406092</td>\n",
       "    </tr>\n",
       "  </tbody>\n",
       "</table>\n",
       "</div>"
      ],
      "text/plain": [
       "   Avg. Session Length  Time on App  Time on Website  Length of Membership  \\\n",
       "0            34.497268    12.655651        39.577668              4.082621   \n",
       "1            31.926272    11.109461        37.268959              2.664034   \n",
       "2            33.000915    11.330278        37.110597              4.104543   \n",
       "3            34.305557    13.717514        36.721283              3.120179   \n",
       "4            33.330673    12.795189        37.536653              4.446308   \n",
       "\n",
       "   Yearly Amount Spent  \n",
       "0           587.951054  \n",
       "1           392.204933  \n",
       "2           487.547505  \n",
       "3           581.852344  \n",
       "4           599.406092  "
      ]
     },
     "execution_count": 88,
     "metadata": {},
     "output_type": "execute_result"
    }
   ],
   "source": [
    "df.drop(df.columns[[0,1]], axis=1, inplace=True)\n",
    "df.head()"
   ]
  },
  {
   "cell_type": "code",
   "execution_count": 89,
   "metadata": {},
   "outputs": [
    {
     "name": "stdout",
     "output_type": "stream",
     "text": [
      "(500, 5)\n"
     ]
    }
   ],
   "source": [
    "print(df.shape)"
   ]
  },
  {
   "cell_type": "code",
   "execution_count": 90,
   "metadata": {},
   "outputs": [
    {
     "name": "stdout",
     "output_type": "stream",
     "text": [
      "<class 'pandas.core.frame.DataFrame'>\n",
      "RangeIndex: 500 entries, 0 to 499\n",
      "Data columns (total 5 columns):\n",
      " #   Column                Non-Null Count  Dtype  \n",
      "---  ------                --------------  -----  \n",
      " 0   Avg. Session Length   500 non-null    float64\n",
      " 1   Time on App           500 non-null    float64\n",
      " 2   Time on Website       500 non-null    float64\n",
      " 3   Length of Membership  500 non-null    float64\n",
      " 4   Yearly Amount Spent   500 non-null    float64\n",
      "dtypes: float64(5)\n",
      "memory usage: 19.7 KB\n"
     ]
    }
   ],
   "source": [
    "df.info()"
   ]
  },
  {
   "cell_type": "code",
   "execution_count": 91,
   "metadata": {},
   "outputs": [
    {
     "name": "stdout",
     "output_type": "stream",
     "text": [
      "   Avg. Session Length  Time on App  Time on Website  Length of Membership  \\\n",
      "0            34.497268    12.655651        39.577668              4.082621   \n",
      "1            31.926272    11.109461        37.268959              2.664034   \n",
      "2            33.000915    11.330278        37.110597              4.104543   \n",
      "3            34.305557    13.717514        36.721283              3.120179   \n",
      "4            33.330673    12.795189        37.536653              4.446308   \n",
      "\n",
      "   Yearly Amount Spent  \n",
      "0           587.951054  \n",
      "1           392.204933  \n",
      "2           487.547505  \n",
      "3           581.852344  \n",
      "4           599.406092  \n"
     ]
    }
   ],
   "source": [
    "print(df.head())"
   ]
  },
  {
   "cell_type": "code",
   "execution_count": 92,
   "metadata": {},
   "outputs": [
    {
     "data": {
      "text/plain": [
       "<AxesSubplot:xlabel='Percent missing', ylabel='Feature'>"
      ]
     },
     "execution_count": 92,
     "metadata": {},
     "output_type": "execute_result"
    },
    {
     "data": {
      "image/png": "[encoded data removed]",
      "text/plain": [
       "<Figure size 576x720 with 1 Axes>"
      ]
     },
     "metadata": {
      "needs_background": "light"
     },
     "output_type": "display_data"
    }
   ],
   "source": [
    "'''Calculate percentage null values for each column or feature'''\n",
    "null_vals = df.isnull().sum()/len(df)*100\n",
    "null_vals = pd.DataFrame(null_vals)\n",
    "null_vals.reset_index(inplace = True)\n",
    "null_vals.columns = [\"Feature\",\"Percent missing\"]\n",
    "plt.figure(figsize = (8,10))\n",
    "plt.xticks(rotation=45)\n",
    "sns.barplot(x = \"Percent missing\",y =\"Feature\",data = null_vals,orient = \"h\")"
   ]
  },
  {
   "cell_type": "code",
   "execution_count": 93,
   "metadata": {},
   "outputs": [],
   "source": [
    "X_train, X_test, Y_train, Y_test = train_test_split(X_sample, y_sample, test_size=0.2, random_state=1) # 80% training and 20% test\n",
    "\n"
   ]
  },
  {
   "cell_type": "code",
   "execution_count": 94,
   "metadata": {},
   "outputs": [
    {
     "name": "stderr",
     "output_type": "stream",
     "text": [
      "C:\\Users\\Debjyoti\\anaconda3\\lib\\site-packages\\seaborn\\distributions.py:2551: FutureWarning: `distplot` is a deprecated function and will be removed in a future version. Please adapt your code to use either `displot` (a figure-level function with similar flexibility) or `histplot` (an axes-level function for histograms).\n",
      "  warnings.warn(msg, FutureWarning)\n",
      "C:\\Users\\Debjyoti\\anaconda3\\lib\\site-packages\\seaborn\\distributions.py:2551: FutureWarning: `distplot` is a deprecated function and will be removed in a future version. Please adapt your code to use either `displot` (a figure-level function with similar flexibility) or `histplot` (an axes-level function for histograms).\n",
      "  warnings.warn(msg, FutureWarning)\n",
      "C:\\Users\\Debjyoti\\anaconda3\\lib\\site-packages\\seaborn\\distributions.py:2551: FutureWarning: `distplot` is a deprecated function and will be removed in a future version. Please adapt your code to use either `displot` (a figure-level function with similar flexibility) or `histplot` (an axes-level function for histograms).\n",
      "  warnings.warn(msg, FutureWarning)\n"
     ]
    },
    {
     "data": {
      "image/png": "[encoded data removed]",
      "text/plain": [
       "<Figure size 864x720 with 3 Axes>"
      ]
     },
     "metadata": {
      "needs_background": "light"
     },
     "output_type": "display_data"
    }
   ],
   "source": [
    "# Plot RFM distributions\n",
    "plt.figure(figsize=(12,10))\n",
    "# Plot distribution of R\n",
    "plt.subplot(3, 1, 1); sns.distplot(df['Avg. Session Length'])\n",
    "# Plot distribution of F\n",
    "plt.subplot(3, 1, 2); sns.distplot(df['Time on Website'])\n",
    "# Plot distribution of M\n",
    "plt.subplot(3, 1, 3); sns.distplot(df['Yearly Amount Spent'])\n",
    "# Show the plot\n",
    "plt.show()"
   ]
  },
  {
   "cell_type": "code",
   "execution_count": 80,
   "metadata": {},
   "outputs": [
    {
     "data": {
      "text/html": [
       "<div>\n",
       "<style scoped>\n",
       "    .dataframe tbody tr th:only-of-type {\n",
       "        vertical-align: middle;\n",
       "    }\n",
       "\n",
       "    .dataframe tbody tr th {\n",
       "        vertical-align: top;\n",
       "    }\n",
       "\n",
       "    .dataframe thead th {\n",
       "        text-align: right;\n",
       "    }\n",
       "</style>\n",
       "<table border=\"1\" class=\"dataframe\">\n",
       "  <thead>\n",
       "    <tr style=\"text-align: right;\">\n",
       "      <th></th>\n",
       "      <th>0</th>\n",
       "      <th>1</th>\n",
       "      <th>2</th>\n",
       "      <th>3</th>\n",
       "      <th>4</th>\n",
       "    </tr>\n",
       "  </thead>\n",
       "  <tbody>\n",
       "    <tr>\n",
       "      <th>count</th>\n",
       "      <td>5.000000e+02</td>\n",
       "      <td>5.000000e+02</td>\n",
       "      <td>5.000000e+02</td>\n",
       "      <td>5.000000e+02</td>\n",
       "      <td>5.000000e+02</td>\n",
       "    </tr>\n",
       "    <tr>\n",
       "      <th>mean</th>\n",
       "      <td>-7.585710e-15</td>\n",
       "      <td>5.816458e-16</td>\n",
       "      <td>-4.035883e-15</td>\n",
       "      <td>-2.420286e-16</td>\n",
       "      <td>-3.158515e-16</td>\n",
       "    </tr>\n",
       "    <tr>\n",
       "      <th>std</th>\n",
       "      <td>1.001002e+00</td>\n",
       "      <td>1.001002e+00</td>\n",
       "      <td>1.001002e+00</td>\n",
       "      <td>1.001002e+00</td>\n",
       "      <td>1.001002e+00</td>\n",
       "    </tr>\n",
       "    <tr>\n",
       "      <th>min</th>\n",
       "      <td>-3.550697e+00</td>\n",
       "      <td>-3.568527e+00</td>\n",
       "      <td>-3.117055e+00</td>\n",
       "      <td>-3.269191e+00</td>\n",
       "      <td>-3.062310e+00</td>\n",
       "    </tr>\n",
       "    <tr>\n",
       "      <th>25%</th>\n",
       "      <td>-7.174193e-01</td>\n",
       "      <td>-6.688689e-01</td>\n",
       "      <td>-7.045108e-01</td>\n",
       "      <td>-6.040522e-01</td>\n",
       "      <td>-6.849936e-01</td>\n",
       "    </tr>\n",
       "    <tr>\n",
       "      <th>50%</th>\n",
       "      <td>2.905905e-02</td>\n",
       "      <td>-6.972938e-02</td>\n",
       "      <td>8.837404e-03</td>\n",
       "      <td>5.143339e-04</td>\n",
       "      <td>-5.378438e-03</td>\n",
       "    </tr>\n",
       "    <tr>\n",
       "      <th>75%</th>\n",
       "      <td>6.643923e-01</td>\n",
       "      <td>7.061488e-01</td>\n",
       "      <td>6.498278e-01</td>\n",
       "      <td>5.940635e-01</td>\n",
       "      <td>6.310282e-01</td>\n",
       "    </tr>\n",
       "    <tr>\n",
       "      <th>max</th>\n",
       "      <td>3.112709e+00</td>\n",
       "      <td>3.095491e+00</td>\n",
       "      <td>2.917088e+00</td>\n",
       "      <td>3.395075e+00</td>\n",
       "      <td>3.359664e+00</td>\n",
       "    </tr>\n",
       "  </tbody>\n",
       "</table>\n",
       "</div>"
      ],
      "text/plain": [
       "                  0             1             2             3             4\n",
       "count  5.000000e+02  5.000000e+02  5.000000e+02  5.000000e+02  5.000000e+02\n",
       "mean  -7.585710e-15  5.816458e-16 -4.035883e-15 -2.420286e-16 -3.158515e-16\n",
       "std    1.001002e+00  1.001002e+00  1.001002e+00  1.001002e+00  1.001002e+00\n",
       "min   -3.550697e+00 -3.568527e+00 -3.117055e+00 -3.269191e+00 -3.062310e+00\n",
       "25%   -7.174193e-01 -6.688689e-01 -7.045108e-01 -6.040522e-01 -6.849936e-01\n",
       "50%    2.905905e-02 -6.972938e-02  8.837404e-03  5.143339e-04 -5.378438e-03\n",
       "75%    6.643923e-01  7.061488e-01  6.498278e-01  5.940635e-01  6.310282e-01\n",
       "max    3.112709e+00  3.095491e+00  2.917088e+00  3.395075e+00  3.359664e+00"
      ]
     },
     "execution_count": 80,
     "metadata": {},
     "output_type": "execute_result"
    }
   ],
   "source": [
    "'''Do scaling to make sure all dimensions have equal mean and variance'''\n",
    "scaler = StandardScaler() \n",
    "scaler.fit(df)\n",
    "df = pd.DataFrame(scaler.transform(df))\n",
    "df.columns = df.columns\n",
    "df.describe()"
   ]
  },
  {
   "cell_type": "code",
   "execution_count": 95,
   "metadata": {},
   "outputs": [
    {
     "data": {
      "image/png": "[encoded data removed]",
      "text/plain": [
       "<Figure size 432x288 with 1 Axes>"
      ]
     },
     "metadata": {
      "needs_background": "light"
     },
     "output_type": "display_data"
    }
   ],
   "source": [
    "#Visualise data points\n",
    "plt.scatter(df[\"Avg. Session Length\"],df[\"Yearly Amount Spent\"],c='blue',s=25)\n",
    "plt.xlabel('Avg. Session Length')\n",
    "plt.ylabel('Yearly Amount Spent')\n",
    "plt.show()"
   ]
  },
  {
   "cell_type": "code",
   "execution_count": 96,
   "metadata": {},
   "outputs": [
    {
     "data": {
      "image/png": "[encoded data removed]",
      "text/plain": [
       "<Figure size 432x288 with 1 Axes>"
      ]
     },
     "metadata": {
      "needs_background": "light"
     },
     "output_type": "display_data"
    }
   ],
   "source": [
    "# Step 1 and 2 - Choose the number of clusters (k) and select random centroid for each cluster\n",
    "\n",
    "#number of clusters\n",
    "K=3\n",
    "\n",
    "# Select random observation as centroids\n",
    "Centroids = (df.sample(n=K))\n",
    "plt.scatter(df[\"Avg. Session Length\"],df[\"Yearly Amount Spent\"],c='black')\n",
    "plt.scatter(Centroids[\"Avg. Session Length\"],Centroids[\"Yearly Amount Spent\"],c='red')\n",
    "plt.xlabel('Avg. Session Length')\n",
    "plt.ylabel('Yearly Amount Spent')\n",
    "plt.show()"
   ]
  },
  {
   "cell_type": "code",
   "execution_count": 97,
   "metadata": {},
   "outputs": [
    {
     "name": "stdout",
     "output_type": "stream",
     "text": [
      "-0.24303207461842602\n",
      "-0.19290466025335906\n",
      "-0.1676345355537867\n",
      "-0.1670005669094743\n",
      "-0.1983824105888634\n",
      "-0.1485838681155598\n",
      "-0.08174021685139676\n",
      "-0.05383983605240772\n",
      "-0.04619960417540181\n",
      "-0.02007229170441427\n",
      "-0.01846207760240537\n",
      "-0.019012896182891037\n",
      "-0.021454371832970498\n",
      "-0.0032792711330746904\n",
      "-0.011216645045564189\n",
      "-0.00332426293122845\n",
      "-0.012345150133557858\n",
      "-0.0028966145763624773\n",
      "-0.014753776106612548\n",
      "-0.006097877072487989\n",
      "0.0\n"
     ]
    }
   ],
   "source": [
    "# Step 3 - Assign all the points to the closest cluster centroid\n",
    "# Step 4 - Recompute centroids of newly formed clusters\n",
    "# Step 5 - Repeat step 3 and 4\n",
    "\n",
    "diff = 1\n",
    "j=0\n",
    "\n",
    "while(diff!=0):\n",
    "    XD=df\n",
    "    i=1\n",
    "    for index1,row_c in Centroids.iterrows():\n",
    "        ED=[]\n",
    "        for index2,row_d in XD.iterrows():\n",
    "            d1=(row_c[\"Length of Membership\"]-row_d[\"Length of Membership\"])**2\n",
    "            d2=(row_c[\"Avg. Session Length\"]-row_d[\"Avg. Session Length\"])**2\n",
    "            d3=(row_c[\"Yearly Amount Spent\"]-row_d[\"Yearly Amount Spent\"])**2\n",
    "            d=np.sqrt(d1+d2+d3)\n",
    "            ED.append(d)\n",
    "        df[i]=ED\n",
    "        i=i+1\n",
    "\n",
    "    C=[]\n",
    "    for index,row in df.iterrows():\n",
    "        min_dist=row[1]\n",
    "        pos=1\n",
    "        for i in range(K):\n",
    "            if row[i+1] < min_dist:\n",
    "                min_dist = row[i+1]\n",
    "                pos=i+1\n",
    "        C.append(pos)\n",
    "    df[\"Cluster\"]=C\n",
    "    Centroids_new = df.groupby([\"Cluster\"]).mean()[[\"Length of Membership\",\"Avg. Session Length\",\"Yearly Amount Spent\"]]\n",
    "    if j == 0:\n",
    "        diff=1\n",
    "        j=j+1\n",
    "    else:\n",
    "        diff = (Centroids_new['Length of Membership'] - Centroids['Length of Membership']).sum()\n",
    "        + (Centroids_new['Avg. Session Length'] - Centroids['Avg. Session Length']).sum() \n",
    "        + (Centroids_new['Yearly Amount Spent'] - Centroids['Yearly Amount Spent']).sum()\n",
    "        print(diff.sum())\n",
    "    Centroids = df.groupby([\"Cluster\"]).mean()[[\"Length of Membership\",\"Avg. Session Length\",\"Yearly Amount Spent\"]]"
   ]
  },
  {
   "cell_type": "code",
   "execution_count": 46,
   "metadata": {},
   "outputs": [
    {
     "data": {
      "image/png": "[encoded data removed]",
      "text/plain": [
       "<Figure size 432x288 with 1 Axes>"
      ]
     },
     "metadata": {
      "needs_background": "light"
     },
     "output_type": "display_data"
    }
   ],
   "source": [
    "# visualizing the clusters formed after training\n",
    "color=['blue','green','cyan']\n",
    "for k in range(K):\n",
    "    data1=df[df[\"Cluster\"]==k+1]\n",
    "    plt.scatter(data1[\"Avg. Session Length\"],data1[\"Yearly Amount Spent\"],c=color[k],s=25)\n",
    "plt.scatter(Centroids[\"Avg. Session Length\"],Centroids[\"Yearly Amount Spent\"],c='red',s=25)\n",
    "plt.xlabel('Avg. Session Length')\n",
    "plt.ylabel('Yearly Amount Spent')\n",
    "plt.show()"
   ]
  },
  {
   "cell_type": "code",
   "execution_count": 98,
   "metadata": {},
   "outputs": [
    {
     "data": {
      "image/png": "[encoded data removed]",
      "text/plain": [
       "<Figure size 864x432 with 1 Axes>"
      ]
     },
     "metadata": {
      "needs_background": "light"
     },
     "output_type": "display_data"
    }
   ],
   "source": [
    "from sklearn.cluster import KMeans\n",
    "wcss = []\n",
    "for k in range(1,11):\n",
    "    kmeans = KMeans(n_clusters=k, init=\"k-means++\")\n",
    "    kmeans.fit(df.iloc[:,1:])\n",
    "    wcss.append(kmeans.inertia_)\n",
    "plt.figure(figsize=(12,6))    \n",
    "plt.grid()\n",
    "plt.plot(range(1,11),wcss, linewidth=2, color=\"red\", marker =\"8\")\n",
    "plt.xlabel(\"K Value\")\n",
    "plt.xticks(np.arange(1,11,1))\n",
    "plt.ylabel(\"WCSS\")\n",
    "plt.show()"
   ]
  },
  {
   "cell_type": "code",
   "execution_count": 57,
   "metadata": {},
   "outputs": [
    {
     "name": "stdout",
     "output_type": "stream",
     "text": [
      "Nan checking (array([], dtype=int64), array([], dtype=int64))\n"
     ]
    }
   ],
   "source": [
    "print('Nan checking',np.where(pd.isnull(df)))\n"
   ]
  },
  {
   "cell_type": "code",
   "execution_count": 58,
   "metadata": {},
   "outputs": [],
   "source": [
    "customer_status = []\n"
   ]
  },
  {
   "cell_type": "code",
   "execution_count": 59,
   "metadata": {},
   "outputs": [],
   "source": [
    "for index, row in df.iterrows():\n",
    "     if row.__getitem__('Avg. Session Length') > 30 and  row.__getitem__('Yearly Amount Spent') > 500 :\n",
    "          customer_status.append('Royal')\n",
    "     else :\n",
    "          customer_status.append('Normal')\n"
   ]
  },
  {
   "cell_type": "code",
   "execution_count": 60,
   "metadata": {},
   "outputs": [],
   "source": [
    "df['Customer_Status'] = customer_status\n",
    "df.to_csv('Ecommerce_customer_latest.csv')\n",
    "df=pd.DataFrame(pd.read_csv(\"Ecommerce_customer_latest.csv\"))\n"
   ]
  },
  {
   "cell_type": "code",
   "execution_count": 61,
   "metadata": {},
   "outputs": [
    {
     "name": "stdout",
     "output_type": "stream",
     "text": [
      "     Unnamed: 0  Avg. Session Length  Time on App  Time on Website  \\\n",
      "0             0            34.497268    12.655651        39.577668   \n",
      "1             1            31.926272    11.109461        37.268959   \n",
      "2             2            33.000915    11.330278        37.110597   \n",
      "3             3            34.305557    13.717514        36.721283   \n",
      "4             4            33.330673    12.795189        37.536653   \n",
      "..          ...                  ...          ...              ...   \n",
      "495         495            33.237660    13.566160        36.417985   \n",
      "496         496            34.702529    11.695736        37.190268   \n",
      "497         497            32.646777    11.499409        38.332576   \n",
      "498         498            33.322501    12.391423        36.840086   \n",
      "499         499            33.715981    12.418808        35.771016   \n",
      "\n",
      "     Length of Membership  Yearly Amount Spent Customer_Status  \n",
      "0                4.082621           587.951054           Royal  \n",
      "1                2.664034           392.204933          Normal  \n",
      "2                4.104543           487.547505          Normal  \n",
      "3                3.120179           581.852344           Royal  \n",
      "4                4.446308           599.406092           Royal  \n",
      "..                    ...                  ...             ...  \n",
      "495              3.746573           573.847438           Royal  \n",
      "496              3.576526           529.049004           Royal  \n",
      "497              4.958264           551.620146           Royal  \n",
      "498              2.336485           456.469510          Normal  \n",
      "499              2.735160           497.778642          Normal  \n",
      "\n",
      "[500 rows x 7 columns]\n"
     ]
    }
   ],
   "source": [
    "y_sample = df[\"Customer_Status\"]\n",
    "X_sample = df[['Avg. Session Length','Time on Website', 'Length of Membership', 'Yearly Amount Spent']]\n",
    "print(df)"
   ]
  },
  {
   "cell_type": "code",
   "execution_count": null,
   "metadata": {},
   "outputs": [],
   "source": [
    "'''Get cluster characteristics. Since we are interested in the original values,\n",
    "we use the non-log transformed, non-standardized dataframe'''\n",
    "\n",
    "df_clus2 = df.assign(Cluster = clus_labels)\n",
    "print(df_clus2.shape)\n",
    "df_clus2.head(2)"
   ]
  },
  {
   "cell_type": "code",
   "execution_count": 13,
   "metadata": {},
   "outputs": [
    {
     "name": "stdout",
     "output_type": "stream",
     "text": [
      "DecisionTreeClassifier(criterion='entropy', max_depth=3)\n"
     ]
    }
   ],
   "source": [
    "clf = DecisionTreeClassifier(criterion='entropy', max_depth=3)\n",
    "clf = clf.fit(X_train,Y_train)\n",
    "print(clf)"
   ]
  },
  {
   "cell_type": "code",
   "execution_count": 14,
   "metadata": {},
   "outputs": [
    {
     "name": "stdout",
     "output_type": "stream",
     "text": [
      "['Normal' 'Royal' 'Royal' 'Normal' 'Normal' 'Royal' 'Normal' 'Normal'\n",
      " 'Royal' 'Normal' 'Normal' 'Royal' 'Royal' 'Royal' 'Royal' 'Normal'\n",
      " 'Normal' 'Normal' 'Normal' 'Normal' 'Normal' 'Normal' 'Royal' 'Normal'\n",
      " 'Royal' 'Normal' 'Royal' 'Normal' 'Normal' 'Royal' 'Royal' 'Normal'\n",
      " 'Normal' 'Normal' 'Normal' 'Royal' 'Royal' 'Royal' 'Royal' 'Normal'\n",
      " 'Royal' 'Royal' 'Normal' 'Royal' 'Normal' 'Normal' 'Normal' 'Royal'\n",
      " 'Normal' 'Normal' 'Royal' 'Normal' 'Royal' 'Normal' 'Normal' 'Royal'\n",
      " 'Normal' 'Normal' 'Normal' 'Royal' 'Royal' 'Royal' 'Royal' 'Royal'\n",
      " 'Normal' 'Royal' 'Royal' 'Normal' 'Normal' 'Royal' 'Normal' 'Royal'\n",
      " 'Normal' 'Royal' 'Normal' 'Normal' 'Royal' 'Royal' 'Royal' 'Normal'\n",
      " 'Royal' 'Royal' 'Royal' 'Normal' 'Royal' 'Royal' 'Normal' 'Normal'\n",
      " 'Royal' 'Normal' 'Normal' 'Royal' 'Normal' 'Royal' 'Royal' 'Royal'\n",
      " 'Royal' 'Royal' 'Royal' 'Normal']\n"
     ]
    }
   ],
   "source": [
    "Y_pred = clf.predict(X_test)\n",
    "print(Y_pred)"
   ]
  },
  {
   "cell_type": "code",
   "execution_count": 15,
   "metadata": {},
   "outputs": [
    {
     "name": "stdout",
     "output_type": "stream",
     "text": [
      "Confusion matrix:  [[50  0]\n",
      " [ 0 50]]\n"
     ]
    }
   ],
   "source": [
    "print(\"Confusion matrix: \",metrics.confusion_matrix(Y_test, Y_pred)) # Model Accuracy, how often is the classifier correct?"
   ]
  },
  {
   "cell_type": "code",
   "execution_count": 16,
   "metadata": {},
   "outputs": [
    {
     "name": "stdout",
     "output_type": "stream",
     "text": [
      "Accuracy (Info Gain) : 1.0\n"
     ]
    }
   ],
   "source": [
    "print(\"Accuracy (Info Gain) :\",metrics.accuracy_score(Y_test, Y_pred))"
   ]
  },
  {
   "cell_type": "code",
   "execution_count": 17,
   "metadata": {},
   "outputs": [
    {
     "name": "stdout",
     "output_type": "stream",
     "text": [
      "Precision (Info Gain): 0.0\n",
      "Recall (Info Gain): 0.0\n",
      "F1Score (Info Gain): 0.0\n"
     ]
    },
    {
     "name": "stderr",
     "output_type": "stream",
     "text": [
      "C:\\Users\\Debjyoti\\anaconda3\\lib\\site-packages\\numpy\\lib\\arraysetops.py:576: FutureWarning: elementwise comparison failed; returning scalar instead, but in the future will perform elementwise comparison\n",
      "  mask &= (ar1 != a)\n",
      "C:\\Users\\Debjyoti\\anaconda3\\lib\\site-packages\\sklearn\\metrics\\_classification.py:1221: UndefinedMetricWarning: Precision is ill-defined and being set to 0.0 due to no predicted samples. Use `zero_division` parameter to control this behavior.\n",
      "  _warn_prf(average, modifier, msg_start, len(result))\n",
      "C:\\Users\\Debjyoti\\anaconda3\\lib\\site-packages\\sklearn\\metrics\\_classification.py:1221: UndefinedMetricWarning: Recall is ill-defined and being set to 0.0 due to no true samples. Use `zero_division` parameter to control this behavior.\n",
      "  _warn_prf(average, modifier, msg_start, len(result))\n",
      "C:\\Users\\Debjyoti\\anaconda3\\lib\\site-packages\\sklearn\\metrics\\_classification.py:1464: UndefinedMetricWarning: F-score is ill-defined and being set to 0.0 due to no true nor predicted samples. Use `zero_division` parameter to control this behavior.\n",
      "  _warn_prf(\n"
     ]
    }
   ],
   "source": [
    "precision=metrics.precision_score(Y_test, Y_pred,labels=[1],average='micro')\n",
    "recall=metrics.recall_score(Y_test, Y_pred,labels=[1],average='micro')\n",
    "f1score=metrics.f1_score(Y_test, Y_pred, labels=[1],average='micro')\n",
    "print(\"Precision (Info Gain):\",precision)\n",
    "print(\"Recall (Info Gain):\",recall)\n",
    "print(\"F1Score (Info Gain):\",f1score)\n"
   ]
  },
  {
   "cell_type": "code",
   "execution_count": 18,
   "metadata": {},
   "outputs": [
    {
     "name": "stdout",
     "output_type": "stream",
     "text": [
      "DecisionTreeClassifier(max_depth=3)\n"
     ]
    }
   ],
   "source": [
    "#default == gini index # no gain ratio\n",
    "clf = DecisionTreeClassifier(max_depth=3)\n",
    "clf = clf.fit(X_train,Y_train)\n",
    "print(clf)"
   ]
  },
  {
   "cell_type": "code",
   "execution_count": 19,
   "metadata": {},
   "outputs": [
    {
     "name": "stdout",
     "output_type": "stream",
     "text": [
      "['Normal' 'Royal' 'Royal' 'Normal' 'Normal' 'Royal' 'Normal' 'Normal'\n",
      " 'Royal' 'Normal' 'Normal' 'Royal' 'Royal' 'Royal' 'Royal' 'Normal'\n",
      " 'Normal' 'Normal' 'Normal' 'Normal' 'Normal' 'Normal' 'Royal' 'Normal'\n",
      " 'Royal' 'Normal' 'Royal' 'Normal' 'Normal' 'Royal' 'Royal' 'Normal'\n",
      " 'Normal' 'Normal' 'Normal' 'Royal' 'Royal' 'Royal' 'Royal' 'Normal'\n",
      " 'Royal' 'Royal' 'Normal' 'Royal' 'Normal' 'Normal' 'Normal' 'Royal'\n",
      " 'Normal' 'Normal' 'Royal' 'Normal' 'Royal' 'Normal' 'Normal' 'Royal'\n",
      " 'Normal' 'Normal' 'Normal' 'Royal' 'Royal' 'Royal' 'Royal' 'Royal'\n",
      " 'Normal' 'Royal' 'Royal' 'Normal' 'Normal' 'Royal' 'Normal' 'Royal'\n",
      " 'Normal' 'Royal' 'Normal' 'Normal' 'Royal' 'Royal' 'Royal' 'Normal'\n",
      " 'Royal' 'Royal' 'Royal' 'Normal' 'Royal' 'Royal' 'Normal' 'Normal'\n",
      " 'Royal' 'Normal' 'Normal' 'Royal' 'Normal' 'Royal' 'Royal' 'Royal'\n",
      " 'Royal' 'Royal' 'Royal' 'Normal']\n"
     ]
    }
   ],
   "source": [
    "Y_pred = clf.predict(X_test)\n",
    "print(Y_pred)"
   ]
  },
  {
   "cell_type": "code",
   "execution_count": 20,
   "metadata": {},
   "outputs": [
    {
     "name": "stdout",
     "output_type": "stream",
     "text": [
      "Confusion matrix:  [[50  0]\n",
      " [ 0 50]]\n"
     ]
    }
   ],
   "source": [
    "print(\"Confusion matrix: \",metrics.confusion_matrix(Y_test, Y_pred))\n",
    "# Model Accuracy, how often is the classifier correct?"
   ]
  },
  {
   "cell_type": "code",
   "execution_count": 21,
   "metadata": {},
   "outputs": [
    {
     "name": "stdout",
     "output_type": "stream",
     "text": [
      "Accuracy: gini index  1.0\n"
     ]
    }
   ],
   "source": [
    "print(\"Accuracy: gini index \",metrics.accuracy_score(Y_test, Y_pred))"
   ]
  },
  {
   "cell_type": "code",
   "execution_count": 22,
   "metadata": {},
   "outputs": [
    {
     "name": "stdout",
     "output_type": "stream",
     "text": [
      "Precision: gini index  0.0\n",
      "Recall: gini index  0.0\n",
      "F1Score gini index : 0.0\n"
     ]
    },
    {
     "name": "stderr",
     "output_type": "stream",
     "text": [
      "C:\\Users\\Debjyoti\\anaconda3\\lib\\site-packages\\numpy\\lib\\arraysetops.py:576: FutureWarning: elementwise comparison failed; returning scalar instead, but in the future will perform elementwise comparison\n",
      "  mask &= (ar1 != a)\n",
      "C:\\Users\\Debjyoti\\anaconda3\\lib\\site-packages\\sklearn\\metrics\\_classification.py:1221: UndefinedMetricWarning: Precision is ill-defined and being set to 0.0 due to no predicted samples. Use `zero_division` parameter to control this behavior.\n",
      "  _warn_prf(average, modifier, msg_start, len(result))\n",
      "C:\\Users\\Debjyoti\\anaconda3\\lib\\site-packages\\sklearn\\metrics\\_classification.py:1221: UndefinedMetricWarning: Recall is ill-defined and being set to 0.0 due to no true samples. Use `zero_division` parameter to control this behavior.\n",
      "  _warn_prf(average, modifier, msg_start, len(result))\n",
      "C:\\Users\\Debjyoti\\anaconda3\\lib\\site-packages\\sklearn\\metrics\\_classification.py:1464: UndefinedMetricWarning: F-score is ill-defined and being set to 0.0 due to no true nor predicted samples. Use `zero_division` parameter to control this behavior.\n",
      "  _warn_prf(\n"
     ]
    }
   ],
   "source": [
    "precision=metrics.precision_score(Y_test, Y_pred,labels=[1],average='micro')\n",
    "recall=metrics.recall_score(Y_test, Y_pred,labels=[1],average='micro')\n",
    "f1score=metrics.f1_score(Y_test, Y_pred, labels=[1],average='micro')\n",
    "print(\"Precision: gini index \",precision)\n",
    "print(\"Recall: gini index \",recall)\n",
    "print(\"F1Score gini index :\",f1score)"
   ]
  },
  {
   "cell_type": "code",
   "execution_count": null,
   "metadata": {},
   "outputs": [],
   "source": []
  },
  {
   "cell_type": "code",
   "execution_count": 23,
   "metadata": {},
   "outputs": [
    {
     "name": "stdout",
     "output_type": "stream",
     "text": [
      "RandomForestClassifier(max_depth=3, n_estimators=10)\n"
     ]
    }
   ],
   "source": [
    "clf = RandomForestClassifier(n_estimators = 10, max_depth = 3)\n",
    "clf = clf.fit(X_train,Y_train)\n",
    "print(clf)"
   ]
  },
  {
   "cell_type": "code",
   "execution_count": 24,
   "metadata": {},
   "outputs": [
    {
     "name": "stdout",
     "output_type": "stream",
     "text": [
      "['Normal' 'Royal' 'Royal' 'Normal' 'Normal' 'Royal' 'Normal' 'Normal'\n",
      " 'Royal' 'Normal' 'Normal' 'Royal' 'Royal' 'Royal' 'Royal' 'Normal'\n",
      " 'Normal' 'Normal' 'Normal' 'Normal' 'Normal' 'Normal' 'Royal' 'Normal'\n",
      " 'Royal' 'Normal' 'Royal' 'Normal' 'Normal' 'Royal' 'Royal' 'Normal'\n",
      " 'Normal' 'Normal' 'Normal' 'Royal' 'Royal' 'Royal' 'Royal' 'Normal'\n",
      " 'Royal' 'Royal' 'Normal' 'Royal' 'Normal' 'Normal' 'Normal' 'Royal'\n",
      " 'Normal' 'Normal' 'Royal' 'Normal' 'Royal' 'Normal' 'Normal' 'Royal'\n",
      " 'Normal' 'Normal' 'Normal' 'Royal' 'Royal' 'Royal' 'Royal' 'Royal'\n",
      " 'Normal' 'Royal' 'Royal' 'Normal' 'Normal' 'Royal' 'Normal' 'Royal'\n",
      " 'Normal' 'Royal' 'Normal' 'Normal' 'Royal' 'Royal' 'Royal' 'Normal'\n",
      " 'Royal' 'Royal' 'Royal' 'Normal' 'Royal' 'Royal' 'Normal' 'Normal'\n",
      " 'Royal' 'Normal' 'Normal' 'Royal' 'Normal' 'Royal' 'Royal' 'Royal'\n",
      " 'Royal' 'Royal' 'Royal' 'Normal']\n"
     ]
    }
   ],
   "source": [
    "Y_pred = clf.predict(X_test)\n",
    "print(Y_pred)"
   ]
  },
  {
   "cell_type": "code",
   "execution_count": 25,
   "metadata": {},
   "outputs": [
    {
     "name": "stdout",
     "output_type": "stream",
     "text": [
      "Confusion matrix:  [[50  0]\n",
      " [ 0 50]]\n"
     ]
    }
   ],
   "source": [
    "print(\"Confusion matrix: \",metrics.confusion_matrix(Y_test, Y_pred))\n",
    "# Model Accuracy, how often is the classifier correct?"
   ]
  },
  {
   "cell_type": "code",
   "execution_count": 26,
   "metadata": {},
   "outputs": [
    {
     "name": "stdout",
     "output_type": "stream",
     "text": [
      "Accuracy:forest  1.0\n"
     ]
    }
   ],
   "source": [
    "print(\"Accuracy:forest \",metrics.accuracy_score(Y_test, Y_pred))"
   ]
  },
  {
   "cell_type": "code",
   "execution_count": 28,
   "metadata": {},
   "outputs": [
    {
     "name": "stdout",
     "output_type": "stream",
     "text": [
      "Precision: forest  0.0\n",
      "Recall: forest  0.0\n",
      "F1Score forest : 0.0\n"
     ]
    }
   ],
   "source": [
    "precision=metrics.precision_score(Y_test, Y_pred,labels=[3],average='micro')\n",
    "recall=metrics.recall_score(Y_test, Y_pred,labels=[3],average='micro')\n",
    "f1score=metrics.f1_score(Y_test, Y_pred, labels=[3],average='micro')\n",
    "print(\"Precision: forest \",precision)\n",
    "print(\"Recall: forest \",recall)\n",
    "print(\"F1Score forest :\",f1score)\n"
   ]
  },
  {
   "cell_type": "code",
   "execution_count": 29,
   "metadata": {},
   "outputs": [
    {
     "name": "stdout",
     "output_type": "stream",
     "text": [
      "SVC()\n"
     ]
    }
   ],
   "source": [
    "clf = svm.SVC()\n",
    "clf = clf.fit(X_train,Y_train)\n",
    "print(clf)"
   ]
  },
  {
   "cell_type": "code",
   "execution_count": 30,
   "metadata": {},
   "outputs": [
    {
     "name": "stdout",
     "output_type": "stream",
     "text": [
      "['Normal' 'Normal' 'Royal' 'Normal' 'Normal' 'Royal' 'Normal' 'Normal'\n",
      " 'Royal' 'Normal' 'Normal' 'Royal' 'Royal' 'Royal' 'Royal' 'Normal'\n",
      " 'Normal' 'Normal' 'Normal' 'Normal' 'Normal' 'Normal' 'Royal' 'Normal'\n",
      " 'Royal' 'Normal' 'Royal' 'Normal' 'Normal' 'Royal' 'Normal' 'Normal'\n",
      " 'Normal' 'Normal' 'Normal' 'Royal' 'Royal' 'Royal' 'Royal' 'Normal'\n",
      " 'Royal' 'Royal' 'Normal' 'Royal' 'Normal' 'Normal' 'Normal' 'Royal'\n",
      " 'Normal' 'Normal' 'Royal' 'Normal' 'Royal' 'Normal' 'Normal' 'Royal'\n",
      " 'Normal' 'Normal' 'Normal' 'Royal' 'Royal' 'Royal' 'Royal' 'Royal'\n",
      " 'Normal' 'Royal' 'Royal' 'Normal' 'Normal' 'Royal' 'Normal' 'Royal'\n",
      " 'Normal' 'Royal' 'Normal' 'Normal' 'Royal' 'Royal' 'Royal' 'Normal'\n",
      " 'Royal' 'Royal' 'Royal' 'Normal' 'Royal' 'Royal' 'Normal' 'Normal'\n",
      " 'Royal' 'Normal' 'Normal' 'Royal' 'Normal' 'Royal' 'Royal' 'Royal'\n",
      " 'Royal' 'Royal' 'Royal' 'Normal']\n"
     ]
    }
   ],
   "source": [
    "Y_pred = clf.predict(X_test)\n",
    "print(Y_pred)"
   ]
  },
  {
   "cell_type": "code",
   "execution_count": 31,
   "metadata": {},
   "outputs": [
    {
     "name": "stdout",
     "output_type": "stream",
     "text": [
      "Confusion matrix:  [[50  0]\n",
      " [ 2 48]]\n"
     ]
    }
   ],
   "source": [
    "print(\"Confusion matrix: \",metrics.confusion_matrix(Y_test, Y_pred))\n",
    "# Model Accuracy, how often is the classifier correct?"
   ]
  },
  {
   "cell_type": "code",
   "execution_count": 32,
   "metadata": {},
   "outputs": [
    {
     "name": "stdout",
     "output_type": "stream",
     "text": [
      "Accuracy:svm  0.98\n"
     ]
    }
   ],
   "source": [
    "print(\"Accuracy:svm \",metrics.accuracy_score(Y_test, Y_pred))"
   ]
  },
  {
   "cell_type": "code",
   "execution_count": 33,
   "metadata": {},
   "outputs": [
    {
     "name": "stdout",
     "output_type": "stream",
     "text": [
      "Precision: svm  0.0\n",
      "Recall: svm  0.0\n",
      "F1Score svm : 0.0\n"
     ]
    },
    {
     "name": "stderr",
     "output_type": "stream",
     "text": [
      "C:\\Users\\Debjyoti\\anaconda3\\lib\\site-packages\\numpy\\lib\\arraysetops.py:576: FutureWarning: elementwise comparison failed; returning scalar instead, but in the future will perform elementwise comparison\n",
      "  mask &= (ar1 != a)\n",
      "C:\\Users\\Debjyoti\\anaconda3\\lib\\site-packages\\sklearn\\metrics\\_classification.py:1221: UndefinedMetricWarning: Precision is ill-defined and being set to 0.0 due to no predicted samples. Use `zero_division` parameter to control this behavior.\n",
      "  _warn_prf(average, modifier, msg_start, len(result))\n",
      "C:\\Users\\Debjyoti\\anaconda3\\lib\\site-packages\\sklearn\\metrics\\_classification.py:1221: UndefinedMetricWarning: Recall is ill-defined and being set to 0.0 due to no true samples. Use `zero_division` parameter to control this behavior.\n",
      "  _warn_prf(average, modifier, msg_start, len(result))\n",
      "C:\\Users\\Debjyoti\\anaconda3\\lib\\site-packages\\sklearn\\metrics\\_classification.py:1464: UndefinedMetricWarning: F-score is ill-defined and being set to 0.0 due to no true nor predicted samples. Use `zero_division` parameter to control this behavior.\n",
      "  _warn_prf(\n"
     ]
    }
   ],
   "source": [
    "precision=metrics.precision_score(Y_test, Y_pred,labels=[1],average='micro')\n",
    "recall=metrics.recall_score(Y_test, Y_pred,labels=[1],average='micro')\n",
    "f1score=metrics.f1_score(Y_test, Y_pred, labels=[1],average='micro')\n",
    "print(\"Precision: svm \",precision)\n",
    "print(\"Recall: svm \",recall)\n",
    "print(\"F1Score svm :\",f1score)\n"
   ]
  },
  {
   "cell_type": "code",
   "execution_count": null,
   "metadata": {},
   "outputs": [],
   "source": []
  }
 ],
 "metadata": {
  "kernelspec": {
   "display_name": "Python 3",
   "language": "python",
   "name": "python3"
  },
  "language_info": {
   "codemirror_mode": {
    "name": "ipython",
    "version": 3
   },
   "file_extension": ".py",
   "mimetype": "text/x-python",
   "name": "python",
   "nbconvert_exporter": "python",
   "pygments_lexer": "ipython3",
   "version": "3.8.5"
  }
 },
 "nbformat": 4,
 "nbformat_minor": 4
}
